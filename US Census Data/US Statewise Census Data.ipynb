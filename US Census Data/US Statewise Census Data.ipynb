{
 "cells": [
  {
   "cell_type": "markdown",
   "id": "bd1ecaf6",
   "metadata": {},
   "source": [
    " # US Statewise Population Analysis"
   ]
  },
  {
   "cell_type": "markdown",
   "id": "ff73e5df",
   "metadata": {},
   "source": [
    "## Questions:\n",
    "### Which state has the highest population as per the latest records?\n",
    "### Which state provides the most land : population ratio for their citizens?\n",
    "### Which state has the least land : water ratio?\n",
    "### Which state has the highest population growth rate in the past 6 years?\n",
    "### List the states which have had a -ve population growth in any year"
   ]
  },
  {
   "cell_type": "code",
   "execution_count": 1,
   "id": "b2d5e20e",
   "metadata": {},
   "outputs": [],
   "source": [
    "import requests\n",
    "import json\n",
    "import pandas as pd"
   ]
  },
  {
   "cell_type": "code",
   "execution_count": 2,
   "id": "6b087f5d",
   "metadata": {},
   "outputs": [],
   "source": [
    "url = \"https://datausa.io/api/data?drilldowns=State&measures=Population\"\n",
    "response = requests.get(url)\n",
    "result = json.loads(response.text)[\"data\"]\n",
    "df = pd.DataFrame(result)\n",
    "# df"
   ]
  },
  {
   "cell_type": "code",
   "execution_count": 3,
   "id": "e6b06e84",
   "metadata": {},
   "outputs": [],
   "source": [
    "df = df.pivot_table(\"Population\", [\"State\"], \"Year\")"
   ]
  },
  {
   "cell_type": "code",
   "execution_count": 4,
   "id": "da959a1d",
   "metadata": {},
   "outputs": [],
   "source": [
    "df.reset_index(inplace=True)\n",
    "df = df.rename_axis(None, axis=1)\n",
    "df1 = df1 = pd.read_csv(\"state_area_data.csv\")\n",
    "df = pd.merge(df,df1, on=\"State\")\n",
    "# df"
   ]
  },
  {
   "cell_type": "markdown",
   "id": "8033035e",
   "metadata": {},
   "source": [
    "\n",
    "### Question 1: Which state has the highest population as per the latest records?"
   ]
  },
  {
   "cell_type": "code",
   "execution_count": 5,
   "id": "a746c32d",
   "metadata": {},
   "outputs": [
    {
     "data": {
      "text/html": [
       "<div>\n",
       "<style scoped>\n",
       "    .dataframe tbody tr th:only-of-type {\n",
       "        vertical-align: middle;\n",
       "    }\n",
       "\n",
       "    .dataframe tbody tr th {\n",
       "        vertical-align: top;\n",
       "    }\n",
       "\n",
       "    .dataframe thead th {\n",
       "        text-align: right;\n",
       "    }\n",
       "</style>\n",
       "<table border=\"1\" class=\"dataframe\">\n",
       "  <thead>\n",
       "    <tr style=\"text-align: right;\">\n",
       "      <th></th>\n",
       "      <th>State</th>\n",
       "      <th>2019</th>\n",
       "    </tr>\n",
       "  </thead>\n",
       "  <tbody>\n",
       "    <tr>\n",
       "      <th>4</th>\n",
       "      <td>California</td>\n",
       "      <td>39512223</td>\n",
       "    </tr>\n",
       "    <tr>\n",
       "      <th>44</th>\n",
       "      <td>Texas</td>\n",
       "      <td>28995881</td>\n",
       "    </tr>\n",
       "    <tr>\n",
       "      <th>9</th>\n",
       "      <td>Florida</td>\n",
       "      <td>21477737</td>\n",
       "    </tr>\n",
       "    <tr>\n",
       "      <th>32</th>\n",
       "      <td>New York</td>\n",
       "      <td>19453561</td>\n",
       "    </tr>\n",
       "    <tr>\n",
       "      <th>38</th>\n",
       "      <td>Pennsylvania</td>\n",
       "      <td>12801989</td>\n",
       "    </tr>\n",
       "  </tbody>\n",
       "</table>\n",
       "</div>"
      ],
      "text/plain": [
       "           State      2019\n",
       "4     California  39512223\n",
       "44         Texas  28995881\n",
       "9        Florida  21477737\n",
       "32      New York  19453561\n",
       "38  Pennsylvania  12801989"
      ]
     },
     "execution_count": 5,
     "metadata": {},
     "output_type": "execute_result"
    }
   ],
   "source": [
    "df[[\"State\",\"2019\"]].sort_values(by=\"2019\", ascending=False).head()"
   ]
  },
  {
   "cell_type": "markdown",
   "id": "c2b0f1a0",
   "metadata": {},
   "source": [
    "### California has the highest population as per the latest records\n"
   ]
  },
  {
   "cell_type": "markdown",
   "id": "9dc4259b",
   "metadata": {},
   "source": [
    " "
   ]
  },
  {
   "cell_type": "markdown",
   "id": "39b50160",
   "metadata": {},
   "source": [
    "### Question 2: Which state provides the most land : population ratio for their citizens?"
   ]
  },
  {
   "cell_type": "code",
   "execution_count": 6,
   "id": "964d03f5",
   "metadata": {},
   "outputs": [],
   "source": [
    "df[\"Land Per Person sq. m\"] = round((df[\"LandArea\"]/df[\"2019\"])*2589988)"
   ]
  },
  {
   "cell_type": "code",
   "execution_count": 7,
   "id": "dc2e97a5",
   "metadata": {},
   "outputs": [
    {
     "data": {
      "text/html": [
       "<div>\n",
       "<style scoped>\n",
       "    .dataframe tbody tr th:only-of-type {\n",
       "        vertical-align: middle;\n",
       "    }\n",
       "\n",
       "    .dataframe tbody tr th {\n",
       "        vertical-align: top;\n",
       "    }\n",
       "\n",
       "    .dataframe thead th {\n",
       "        text-align: right;\n",
       "    }\n",
       "</style>\n",
       "<table border=\"1\" class=\"dataframe\">\n",
       "  <thead>\n",
       "    <tr style=\"text-align: right;\">\n",
       "      <th></th>\n",
       "      <th>State</th>\n",
       "      <th>Land Per Person sq. m</th>\n",
       "    </tr>\n",
       "  </thead>\n",
       "  <tbody>\n",
       "    <tr>\n",
       "      <th>1</th>\n",
       "      <td>Alaska</td>\n",
       "      <td>2020318.0</td>\n",
       "    </tr>\n",
       "    <tr>\n",
       "      <th>51</th>\n",
       "      <td>Wyoming</td>\n",
       "      <td>434498.0</td>\n",
       "    </tr>\n",
       "    <tr>\n",
       "      <th>26</th>\n",
       "      <td>Montana</td>\n",
       "      <td>352704.0</td>\n",
       "    </tr>\n",
       "    <tr>\n",
       "      <th>34</th>\n",
       "      <td>North Dakota</td>\n",
       "      <td>234511.0</td>\n",
       "    </tr>\n",
       "    <tr>\n",
       "      <th>42</th>\n",
       "      <td>South Dakota</td>\n",
       "      <td>221949.0</td>\n",
       "    </tr>\n",
       "  </tbody>\n",
       "</table>\n",
       "</div>"
      ],
      "text/plain": [
       "           State  Land Per Person sq. m\n",
       "1         Alaska              2020318.0\n",
       "51       Wyoming               434498.0\n",
       "26       Montana               352704.0\n",
       "34  North Dakota               234511.0\n",
       "42  South Dakota               221949.0"
      ]
     },
     "execution_count": 7,
     "metadata": {},
     "output_type": "execute_result"
    }
   ],
   "source": [
    "df[[\"State\",\"Land Per Person sq. m\"]].sort_values(by=\"Land Per Person sq. m\", ascending=False).head()"
   ]
  },
  {
   "cell_type": "markdown",
   "id": "8d17be88",
   "metadata": {},
   "source": [
    "### This shows us that Alaska provides the most area per person"
   ]
  },
  {
   "cell_type": "markdown",
   "id": "e1455c60",
   "metadata": {},
   "source": [
    " "
   ]
  },
  {
   "cell_type": "markdown",
   "id": "218a9123",
   "metadata": {},
   "source": [
    "### Question 3: Which state has the least land : water ratio?"
   ]
  },
  {
   "cell_type": "code",
   "execution_count": 8,
   "id": "362517d5",
   "metadata": {},
   "outputs": [],
   "source": [
    "df[\"Land:Water\"] = df[\"LandArea\"]/df[\"WaterArea\"]"
   ]
  },
  {
   "cell_type": "code",
   "execution_count": 9,
   "id": "526511bf",
   "metadata": {},
   "outputs": [
    {
     "data": {
      "text/html": [
       "<div>\n",
       "<style scoped>\n",
       "    .dataframe tbody tr th:only-of-type {\n",
       "        vertical-align: middle;\n",
       "    }\n",
       "\n",
       "    .dataframe tbody tr th {\n",
       "        vertical-align: top;\n",
       "    }\n",
       "\n",
       "    .dataframe thead th {\n",
       "        text-align: right;\n",
       "    }\n",
       "</style>\n",
       "<table border=\"1\" class=\"dataframe\">\n",
       "  <thead>\n",
       "    <tr style=\"text-align: right;\">\n",
       "      <th></th>\n",
       "      <th>State</th>\n",
       "      <th>Land:Water</th>\n",
       "    </tr>\n",
       "  </thead>\n",
       "  <tbody>\n",
       "    <tr>\n",
       "      <th>22</th>\n",
       "      <td>Michigan</td>\n",
       "      <td>1.407318</td>\n",
       "    </tr>\n",
       "    <tr>\n",
       "      <th>11</th>\n",
       "      <td>Hawaii</td>\n",
       "      <td>1.424484</td>\n",
       "    </tr>\n",
       "    <tr>\n",
       "      <th>40</th>\n",
       "      <td>Rhode Island</td>\n",
       "      <td>2.023483</td>\n",
       "    </tr>\n",
       "    <tr>\n",
       "      <th>21</th>\n",
       "      <td>Massachusetts</td>\n",
       "      <td>2.832244</td>\n",
       "    </tr>\n",
       "    <tr>\n",
       "      <th>20</th>\n",
       "      <td>Maryland</td>\n",
       "      <td>3.596517</td>\n",
       "    </tr>\n",
       "  </tbody>\n",
       "</table>\n",
       "</div>"
      ],
      "text/plain": [
       "            State  Land:Water\n",
       "22       Michigan    1.407318\n",
       "11         Hawaii    1.424484\n",
       "40   Rhode Island    2.023483\n",
       "21  Massachusetts    2.832244\n",
       "20       Maryland    3.596517"
      ]
     },
     "execution_count": 9,
     "metadata": {},
     "output_type": "execute_result"
    }
   ],
   "source": [
    "df[[\"State\",\"Land:Water\"]].sort_values(by=\"Land:Water\", ascending=True).head()"
   ]
  },
  {
   "cell_type": "markdown",
   "id": "964389a0",
   "metadata": {},
   "source": [
    "### This shows us that Michigan has the least land : water ratio"
   ]
  },
  {
   "cell_type": "markdown",
   "id": "ab33ee85",
   "metadata": {},
   "source": [
    " "
   ]
  },
  {
   "cell_type": "markdown",
   "id": "ceb7b3be",
   "metadata": {},
   "source": [
    "### Question 4: Which state has the highest population growth percentage in the past 6 years?"
   ]
  },
  {
   "cell_type": "code",
   "execution_count": 10,
   "id": "1c253d45",
   "metadata": {},
   "outputs": [],
   "source": [
    "df[\"Population Growth\"] = round(((df[\"2019\"]-df[\"2013\"])/df[\"2013\"])*100,2)"
   ]
  },
  {
   "cell_type": "code",
   "execution_count": 11,
   "id": "b36d6c9c",
   "metadata": {},
   "outputs": [
    {
     "data": {
      "text/html": [
       "<div>\n",
       "<style scoped>\n",
       "    .dataframe tbody tr th:only-of-type {\n",
       "        vertical-align: middle;\n",
       "    }\n",
       "\n",
       "    .dataframe tbody tr th {\n",
       "        vertical-align: top;\n",
       "    }\n",
       "\n",
       "    .dataframe thead th {\n",
       "        text-align: right;\n",
       "    }\n",
       "</style>\n",
       "<table border=\"1\" class=\"dataframe\">\n",
       "  <thead>\n",
       "    <tr style=\"text-align: right;\">\n",
       "      <th></th>\n",
       "      <th>State</th>\n",
       "      <th>Population Growth</th>\n",
       "    </tr>\n",
       "  </thead>\n",
       "  <tbody>\n",
       "    <tr>\n",
       "      <th>12</th>\n",
       "      <td>Idaho</td>\n",
       "      <td>10.85</td>\n",
       "    </tr>\n",
       "    <tr>\n",
       "      <th>45</th>\n",
       "      <td>Utah</td>\n",
       "      <td>10.52</td>\n",
       "    </tr>\n",
       "    <tr>\n",
       "      <th>28</th>\n",
       "      <td>Nevada</td>\n",
       "      <td>10.39</td>\n",
       "    </tr>\n",
       "    <tr>\n",
       "      <th>2</th>\n",
       "      <td>Arizona</td>\n",
       "      <td>9.84</td>\n",
       "    </tr>\n",
       "    <tr>\n",
       "      <th>9</th>\n",
       "      <td>Florida</td>\n",
       "      <td>9.84</td>\n",
       "    </tr>\n",
       "  </tbody>\n",
       "</table>\n",
       "</div>"
      ],
      "text/plain": [
       "      State  Population Growth\n",
       "12    Idaho              10.85\n",
       "45     Utah              10.52\n",
       "28   Nevada              10.39\n",
       "2   Arizona               9.84\n",
       "9   Florida               9.84"
      ]
     },
     "execution_count": 11,
     "metadata": {},
     "output_type": "execute_result"
    }
   ],
   "source": [
    "df[[\"State\",\"Population Growth\"]].sort_values(by=\"Population Growth\", ascending=False).head()"
   ]
  },
  {
   "cell_type": "markdown",
   "id": "ae6e684a",
   "metadata": {},
   "source": [
    "### This shows us that Idaho has had the highest population growth percentage in the past 6 years."
   ]
  },
  {
   "cell_type": "markdown",
   "id": "e7af972c",
   "metadata": {},
   "source": [
    " "
   ]
  },
  {
   "cell_type": "markdown",
   "id": "f7c15e01",
   "metadata": {},
   "source": [
    "### Question 5: List the states which have had a -ve population growth in any year"
   ]
  },
  {
   "cell_type": "code",
   "execution_count": 12,
   "id": "5d79463e",
   "metadata": {},
   "outputs": [
    {
     "data": {
      "text/plain": [
       "1            Alaska\n",
       "4        California\n",
       "6       Connecticut\n",
       "11           Hawaii\n",
       "13         Illinois\n",
       "15             Iowa\n",
       "16           Kansas\n",
       "17         Kentucky\n",
       "18        Louisiana\n",
       "19            Maine\n",
       "20         Maryland\n",
       "21    Massachusetts\n",
       "22         Michigan\n",
       "24      Mississippi\n",
       "30       New Jersey\n",
       "31       New Mexico\n",
       "32         New York\n",
       "34     North Dakota\n",
       "35             Ohio\n",
       "38     Pennsylvania\n",
       "39      Puerto Rico\n",
       "40     Rhode Island\n",
       "46          Vermont\n",
       "49    West Virginia\n",
       "51          Wyoming\n",
       "Name: State, dtype: object"
      ]
     },
     "execution_count": 12,
     "metadata": {},
     "output_type": "execute_result"
    }
   ],
   "source": [
    "filt = (df[\"2014\"] - df[\"2013\"] < 0) | (df[\"2015\"] - df[\"2014\"] < 0) | (df[\"2016\"] - df[\"2015\"] < 0) | (df[\"2017\"] - df[\"2016\"] < 0) | (df[\"2018\"] - df[\"2017\"] < 0) | (df[\"2019\"] - df[\"2018\"] < 0)\n",
    "df[filt][\"State\"]"
   ]
  },
  {
   "cell_type": "markdown",
   "id": "e2cbe47f",
   "metadata": {},
   "source": [
    "### The above listed states have had -ve population growth in one or more of the past 6 years."
   ]
  }
 ],
 "metadata": {
  "kernelspec": {
   "display_name": "Python 3 (ipykernel)",
   "language": "python",
   "name": "python3"
  },
  "language_info": {
   "codemirror_mode": {
    "name": "ipython",
    "version": 3
   },
   "file_extension": ".py",
   "mimetype": "text/x-python",
   "name": "python",
   "nbconvert_exporter": "python",
   "pygments_lexer": "ipython3",
   "version": "3.10.4"
  }
 },
 "nbformat": 4,
 "nbformat_minor": 5
}
